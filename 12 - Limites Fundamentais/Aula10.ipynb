{
 "cells": [
  {
   "cell_type": "markdown",
   "source": [
    "# Aula 10"
   ],
   "metadata": {}
  },
  {
   "cell_type": "markdown",
   "source": [
    "<font size = 5>\r\n",
    "\r\n",
    "Conteúdo da aula:\r\n",
    "\r\n",
    "* Retas Assíntotas.\r\n",
    "* Limites Fundamentais.\r\n",
    "\r\n",
    "</font>"
   ],
   "metadata": {}
  },
  {
   "cell_type": "markdown",
   "source": [
    "__________"
   ],
   "metadata": {}
  },
  {
   "cell_type": "code",
   "execution_count": 2,
   "source": [
    "from sympy import *"
   ],
   "outputs": [],
   "metadata": {}
  },
  {
   "cell_type": "code",
   "execution_count": 3,
   "source": [
    "x = symbols('x')\r\n",
    "y = symbols('y')"
   ],
   "outputs": [],
   "metadata": {}
  },
  {
   "cell_type": "markdown",
   "source": [
    "___________"
   ],
   "metadata": {}
  },
  {
   "cell_type": "markdown",
   "source": [
    "# Assíntotas Verticais"
   ],
   "metadata": {}
  },
  {
   "cell_type": "markdown",
   "source": [
    "<font size = 5>\r\n",
    "\r\n",
    "Exemplo\r\n",
    "\r\n",
    "$$\r\n",
    "y = \\frac{1}{(x-2)^2}\r\n",
    "$$\r\n",
    "\r\n",
    "</font>"
   ],
   "metadata": {}
  },
  {
   "cell_type": "code",
   "execution_count": 4,
   "source": [
    "# Criando a expressão\r\n",
    "f = 1/(x-2)**2\r\n",
    "f"
   ],
   "outputs": [
    {
     "output_type": "execute_result",
     "data": {
      "text/latex": [
       "$\\displaystyle \\frac{1}{\\left(x - 2\\right)^{2}}$"
      ],
      "text/plain": [
       "(x - 2)**(-2)"
      ]
     },
     "metadata": {},
     "execution_count": 4
    }
   ],
   "metadata": {}
  },
  {
   "cell_type": "code",
   "execution_count": 5,
   "source": [
    "# Plotando o gráfico\r\n",
    "plt = plot(f, (x, 0, 4), show = False)\r\n",
    "plt.ylim = [0, 10]\r\n",
    "\r\n",
    "plt.show()"
   ],
   "outputs": [
    {
     "output_type": "display_data",
     "data": {
      "image/png": "[encoded data removed]",
      "text/plain": [
       "<Figure size 432x288 with 1 Axes>"
      ]
     },
     "metadata": {
      "needs_background": "light"
     }
    }
   ],
   "metadata": {}
  },
  {
   "cell_type": "markdown",
   "source": [
    "<font size = 5>\r\n",
    "\r\n",
    "Tudo indica que há uma assíntota vertical em $x=2$.\r\n",
    "\r\n",
    "Para confirmar isso podemos verificar se o limite é igual à $\\infty$ quando $x \\rightarrow 2$.\r\n",
    "\r\n",
    "</font>"
   ],
   "metadata": {}
  },
  {
   "cell_type": "code",
   "execution_count": 6,
   "source": [
    "limit(f, x, 2, '+')"
   ],
   "outputs": [
    {
     "output_type": "execute_result",
     "data": {
      "text/latex": [
       "$\\displaystyle \\infty$"
      ],
      "text/plain": [
       "oo"
      ]
     },
     "metadata": {},
     "execution_count": 6
    }
   ],
   "metadata": {}
  },
  {
   "cell_type": "code",
   "execution_count": 7,
   "source": [
    "limit(f, x, 2, '-')"
   ],
   "outputs": [
    {
     "output_type": "execute_result",
     "data": {
      "text/latex": [
       "$\\displaystyle \\infty$"
      ],
      "text/plain": [
       "oo"
      ]
     },
     "metadata": {},
     "execution_count": 7
    }
   ],
   "metadata": {}
  },
  {
   "cell_type": "code",
   "execution_count": 7,
   "source": [
    "# Plotando o gráfico da função 'f'\r\n",
    "plt = plot(f, (x, 0, 4), show = False)\r\n",
    "\r\n",
    "# Plotando a reta assíntota vertical em x = 2\r\n",
    "plt1 = plot_implicit(Eq(x, 2), (x, 1, 3), (y, 0, 10), show = False, line_color = 'r', adaptive = False)\r\n",
    "\r\n",
    "plt.append(plt1[0])\r\n",
    "plt.ylim = [0, 10]\r\n",
    "plt.title = \"Assíntota Vertical em x = 2\"\r\n",
    "\r\n",
    "plt.show()"
   ],
   "outputs": [
    {
     "output_type": "display_data",
     "data": {
      "image/png": "[encoded data removed]",
      "text/plain": [
       "<Figure size 432x288 with 1 Axes>"
      ]
     },
     "metadata": {
      "needs_background": "light"
     }
    }
   ],
   "metadata": {}
  },
  {
   "cell_type": "markdown",
   "source": [
    "__________"
   ],
   "metadata": {}
  },
  {
   "cell_type": "markdown",
   "source": [
    "# Assíntota Horizontal"
   ],
   "metadata": {}
  },
  {
   "cell_type": "markdown",
   "source": [
    "<font size = 5>\r\n",
    "\r\n",
    "Exemplo:\r\n",
    "\r\n",
    "$$\r\n",
    "y = \\frac{x}{\\sqrt{x^2 + 2}}\r\n",
    "$$\r\n",
    "\r\n",
    "</font>"
   ],
   "metadata": {}
  },
  {
   "cell_type": "code",
   "execution_count": 9,
   "source": [
    "# Criando a expressão\r\n",
    "f = x/(sqrt(x**2 + 2))\r\n",
    "f"
   ],
   "outputs": [
    {
     "output_type": "execute_result",
     "data": {
      "text/latex": [
       "$\\displaystyle \\frac{x}{\\sqrt{x^{2} + 2}}$"
      ],
      "text/plain": [
       "x/sqrt(x**2 + 2)"
      ]
     },
     "metadata": {},
     "execution_count": 9
    }
   ],
   "metadata": {}
  },
  {
   "cell_type": "code",
   "execution_count": 10,
   "source": [
    "# Plotando o gráfico\r\n",
    "plt = plot(f, (x, -10, 10), show = False)\r\n",
    "\r\n",
    "plt.show()"
   ],
   "outputs": [
    {
     "output_type": "display_data",
     "data": {
      "image/png": "[encoded data removed]",
      "text/plain": [
       "<Figure size 432x288 with 1 Axes>"
      ]
     },
     "metadata": {
      "needs_background": "light"
     }
    }
   ],
   "metadata": {}
  },
  {
   "cell_type": "markdown",
   "source": [
    "<font size = 5>\r\n",
    "\r\n",
    "Tudo indica que há duas assíntotas, uma em $y = 1$ e outra em $y = -1$\r\n",
    "\r\n",
    "Para isso devemos verificar o limite da função para $x \\rightarrow \\pm \\infty$\r\n",
    "\r\n",
    "</font>"
   ],
   "metadata": {}
  },
  {
   "cell_type": "code",
   "execution_count": 15,
   "source": [
    "limit(f, x, oo)"
   ],
   "outputs": [
    {
     "output_type": "execute_result",
     "data": {
      "text/latex": [
       "$\\displaystyle 1$"
      ],
      "text/plain": [
       "1"
      ]
     },
     "metadata": {},
     "execution_count": 15
    }
   ],
   "metadata": {}
  },
  {
   "cell_type": "code",
   "execution_count": 16,
   "source": [
    "limit(f, x, -oo)"
   ],
   "outputs": [
    {
     "output_type": "execute_result",
     "data": {
      "text/latex": [
       "$\\displaystyle -1$"
      ],
      "text/plain": [
       "-1"
      ]
     },
     "metadata": {},
     "execution_count": 16
    }
   ],
   "metadata": {}
  },
  {
   "cell_type": "code",
   "execution_count": 12,
   "source": [
    "# Plotando o gráfico da função 'f'\r\n",
    "plt = plot(f, (x, -10, 10), show = False)\r\n",
    "\r\n",
    "# Plotando o gráfico da assíntota vertical em y = 1\r\n",
    "plt1 = plot(1, (x, -10, 10), show = False, line_color = 'r')\r\n",
    "\r\n",
    "# Plotando o gráfico da assíntota vertical em y = -1\r\n",
    "plt2 = plot(-1, (x, -10, 10), show = False, line_color = 'r')\r\n",
    "\r\n",
    "plt.append(plt1[0])\r\n",
    "plt.append(plt2[0])\r\n",
    "plt.title = \"Assíntota Horizontal em y = 1 e y = -1\"\r\n",
    "\r\n",
    "plt.show()"
   ],
   "outputs": [
    {
     "output_type": "display_data",
     "data": {
      "image/png": "[encoded data removed]",
      "text/plain": [
       "<Figure size 432x288 with 1 Axes>"
      ]
     },
     "metadata": {
      "needs_background": "light"
     }
    }
   ],
   "metadata": {}
  },
  {
   "cell_type": "markdown",
   "source": [
    "_________"
   ],
   "metadata": {}
  },
  {
   "cell_type": "markdown",
   "source": [
    "# Assíntota Diagonal"
   ],
   "metadata": {}
  },
  {
   "cell_type": "markdown",
   "source": [
    "<font size = 5>\r\n",
    "\r\n",
    "Exemplo:\r\n",
    "\r\n",
    "$$\r\n",
    "y = \\frac{2x^3}{x^2 + 4}\r\n",
    "$$\r\n",
    "\r\n",
    "</font>"
   ],
   "metadata": {}
  },
  {
   "cell_type": "code",
   "execution_count": 13,
   "source": [
    "# Criando a expressão\r\n",
    "f = (2*x**3)/(x**2 + 4)\r\n",
    "f"
   ],
   "outputs": [
    {
     "output_type": "execute_result",
     "data": {
      "text/latex": [
       "$\\displaystyle \\frac{2 x^{3}}{x^{2} + 4}$"
      ],
      "text/plain": [
       "2*x**3/(x**2 + 4)"
      ]
     },
     "metadata": {},
     "execution_count": 13
    }
   ],
   "metadata": {}
  },
  {
   "cell_type": "code",
   "execution_count": 15,
   "source": [
    "# Plotando o gráfico da expressão\r\n",
    "plt = plot(f, (x, -10, 10), show = False)\r\n",
    "\r\n",
    "plt.show()"
   ],
   "outputs": [
    {
     "output_type": "display_data",
     "data": {
      "image/png": "[encoded data removed]",
      "text/plain": [
       "<Figure size 432x288 with 1 Axes>"
      ]
     },
     "metadata": {
      "needs_background": "light"
     }
    }
   ],
   "metadata": {}
  },
  {
   "cell_type": "markdown",
   "source": [
    "<font size = 5>\r\n",
    "\r\n",
    "Para $x$ muito grande, seus valores tendem a ser dobrados\r\n",
    "\r\n",
    "</font>"
   ],
   "metadata": {}
  },
  {
   "cell_type": "code",
   "execution_count": 20,
   "source": [
    "# Verificando o resultado de 'f' para x = 100\r\n",
    "N(f.subs(x, 100))"
   ],
   "outputs": [
    {
     "output_type": "execute_result",
     "data": {
      "text/latex": [
       "$\\displaystyle 199.920031987205$"
      ],
      "text/plain": [
       "199.920031987205"
      ]
     },
     "metadata": {},
     "execution_count": 20
    }
   ],
   "metadata": {}
  },
  {
   "cell_type": "markdown",
   "source": [
    "<font size = 5>\r\n",
    "\r\n",
    "Isso indica que temos uma assíntota vertical onde a reta $y = 2x$.\r\n",
    "\r\n",
    "Para isso devemos verificar o seguinte limite:\r\n",
    "\r\n",
    "$$\r\n",
    "lim_{x \\rightarrow +\\infty} \\left[ f(x) - (ax - b) \\right] = 0\r\n",
    "$$\r\n",
    "\r\n",
    "ou\r\n",
    "\r\n",
    "$$\r\n",
    "lim_{x \\rightarrow -\\infty} \\left[ f(x) - (ax - b) \\right] = 0\r\n",
    "$$\r\n",
    "\r\n",
    "</font>"
   ],
   "metadata": {}
  },
  {
   "cell_type": "code",
   "execution_count": 20,
   "source": [
    "limit(f - 2*x, x, oo)"
   ],
   "outputs": [
    {
     "output_type": "execute_result",
     "data": {
      "text/latex": [
       "$\\displaystyle 0$"
      ],
      "text/plain": [
       "0"
      ]
     },
     "metadata": {},
     "execution_count": 20
    }
   ],
   "metadata": {}
  },
  {
   "cell_type": "code",
   "execution_count": 25,
   "source": [
    "limit(f - 2*x, x, -oo)"
   ],
   "outputs": [
    {
     "output_type": "execute_result",
     "data": {
      "text/latex": [
       "$\\displaystyle 0$"
      ],
      "text/plain": [
       "0"
      ]
     },
     "metadata": {},
     "execution_count": 25
    }
   ],
   "metadata": {}
  },
  {
   "cell_type": "code",
   "execution_count": 21,
   "source": [
    "# Plotando o gráfico da função 'f'\r\n",
    "plt = plot(f, (x, -10, 10), show = False)\r\n",
    "\r\n",
    "# Plotando o gráfico da assíntota diagonal\r\n",
    "plt1 = plot(2*x, (x, -10, 10), show = False, line_color = 'r')\r\n",
    "\r\n",
    "plt.append(plt1[0])\r\n",
    "plt.title = 'Assíntota Diagonal'\r\n",
    "\r\n",
    "plt.show()"
   ],
   "outputs": [
    {
     "output_type": "display_data",
     "data": {
      "image/png": "[encoded data removed]",
      "text/plain": [
       "<Figure size 432x288 with 1 Axes>"
      ]
     },
     "metadata": {
      "needs_background": "light"
     }
    }
   ],
   "metadata": {}
  },
  {
   "cell_type": "markdown",
   "source": [
    "__________"
   ],
   "metadata": {}
  },
  {
   "cell_type": "markdown",
   "source": [
    "# Exercício"
   ],
   "metadata": {}
  },
  {
   "cell_type": "markdown",
   "source": [
    "<font size = 5>\r\n",
    "\r\n",
    "$$\r\n",
    "y = \\frac{\\sqrt{64x^2 + 1}}{2x - 4}\r\n",
    "$$\r\n",
    "\r\n",
    "</font>"
   ],
   "metadata": {}
  },
  {
   "cell_type": "code",
   "execution_count": 22,
   "source": [
    "# Criando a expressão\r\n",
    "f = sqrt(64*x**2 + 1)/(2*x - 4)\r\n",
    "f"
   ],
   "outputs": [
    {
     "output_type": "execute_result",
     "data": {
      "text/latex": [
       "$\\displaystyle \\frac{\\sqrt{64 x^{2} + 1}}{2 x - 4}$"
      ],
      "text/plain": [
       "sqrt(64*x**2 + 1)/(2*x - 4)"
      ]
     },
     "metadata": {},
     "execution_count": 22
    }
   ],
   "metadata": {}
  },
  {
   "cell_type": "code",
   "execution_count": 23,
   "source": [
    "plt = plot(f, (x, -10, 10), show = False)\r\n",
    "plt.ylim = [-15, 15]\r\n",
    "\r\n",
    "plt.show()"
   ],
   "outputs": [
    {
     "output_type": "display_data",
     "data": {
      "image/png": "[encoded data removed]",
      "text/plain": [
       "<Figure size 432x288 with 1 Axes>"
      ]
     },
     "metadata": {
      "needs_background": "light"
     }
    }
   ],
   "metadata": {}
  },
  {
   "cell_type": "markdown",
   "source": [
    "<font size = 5>\r\n",
    "\r\n",
    "Pelo gráfico temos uma assíntota vertical em $x = 2$ e duas assíntotas horizontais em $y = 4$ e $y = -4$.\r\n",
    "\r\n",
    "</font>"
   ],
   "metadata": {}
  },
  {
   "cell_type": "code",
   "execution_count": 24,
   "source": [
    "# Verificando assíntota vertical\r\n",
    "limit(f, x, 2, '+')"
   ],
   "outputs": [
    {
     "output_type": "execute_result",
     "data": {
      "text/latex": [
       "$\\displaystyle \\infty$"
      ],
      "text/plain": [
       "oo"
      ]
     },
     "metadata": {},
     "execution_count": 24
    }
   ],
   "metadata": {}
  },
  {
   "cell_type": "code",
   "execution_count": 25,
   "source": [
    "# Verificando assíntota vertical\r\n",
    "limit(f, x, 2, '-')"
   ],
   "outputs": [
    {
     "output_type": "execute_result",
     "data": {
      "text/latex": [
       "$\\displaystyle -\\infty$"
      ],
      "text/plain": [
       "-oo"
      ]
     },
     "metadata": {},
     "execution_count": 25
    }
   ],
   "metadata": {}
  },
  {
   "cell_type": "code",
   "execution_count": 26,
   "source": [
    "# Verificando assíntota horizontal\r\n",
    "limit(f, x, oo)"
   ],
   "outputs": [
    {
     "output_type": "execute_result",
     "data": {
      "text/latex": [
       "$\\displaystyle 4$"
      ],
      "text/plain": [
       "4"
      ]
     },
     "metadata": {},
     "execution_count": 26
    }
   ],
   "metadata": {}
  },
  {
   "cell_type": "code",
   "execution_count": 27,
   "source": [
    "# Verificando assíntota horizontal\r\n",
    "limit(f, x, -oo)"
   ],
   "outputs": [
    {
     "output_type": "execute_result",
     "data": {
      "text/latex": [
       "$\\displaystyle -4$"
      ],
      "text/plain": [
       "-4"
      ]
     },
     "metadata": {},
     "execution_count": 27
    }
   ],
   "metadata": {}
  },
  {
   "cell_type": "code",
   "execution_count": 29,
   "source": [
    "# Plotando o gráfico da função 'f'\r\n",
    "plt = plot(f, (x, -10, 10), show = False)\r\n",
    "\r\n",
    "# Plotando o gráfico da assíntota vertical\r\n",
    "plt1 = plot_implicit(Eq(x, 2), (x, 1, 3), (y, -15, 15), show = False, line_color = 'r', adaptive = False)\r\n",
    "\r\n",
    "# Plotando os gráficos das assíntotas horizontais\r\n",
    "plt2 = plot(4, (x, -10, 10), show = False, line_color = 'g')\r\n",
    "plt3 = plot(-4, (x, -10, 10), show = False, line_color = 'g')\r\n",
    "\r\n",
    "plt.ylim = [-15, 15]\r\n",
    "\r\n",
    "plt.append(plt1[0])\r\n",
    "plt.append(plt2[0])\r\n",
    "plt.append(plt3[0])\r\n",
    "\r\n",
    "plt.title = 'Gráfico com suas Assíntotas'\r\n",
    "\r\n",
    "plt.show()"
   ],
   "outputs": [
    {
     "output_type": "display_data",
     "data": {
      "image/png": "[encoded data removed]",
      "text/plain": [
       "<Figure size 432x288 with 1 Axes>"
      ]
     },
     "metadata": {
      "needs_background": "light"
     }
    }
   ],
   "metadata": {}
  }
 ],
 "metadata": {
  "orig_nbformat": 4,
  "language_info": {
   "name": "python",
   "version": "3.8.7",
   "mimetype": "text/x-python",
   "codemirror_mode": {
    "name": "ipython",
    "version": 3
   },
   "pygments_lexer": "ipython3",
   "nbconvert_exporter": "python",
   "file_extension": ".py"
  },
  "kernelspec": {
   "name": "python3",
   "display_name": "Python 3.8.7 64-bit"
  },
  "interpreter": {
   "hash": "96e4cd4559f420b337cff5e6e94c280d73a970df8418c12f136cdcb524bea702"
  }
 },
 "nbformat": 4,
 "nbformat_minor": 2
}