{
 "cells": [
  {
   "cell_type": "markdown",
   "source": [
    "# AULA 11 - DERIVADAS"
   ],
   "metadata": {}
  },
  {
   "cell_type": "code",
   "execution_count": 1,
   "source": [
    "from sympy import *"
   ],
   "outputs": [],
   "metadata": {}
  },
  {
   "cell_type": "code",
   "execution_count": 8,
   "source": [
    "x = symbols('x')\r\n",
    "y = symbols('y')\r\n",
    "d = symbols('d')\r\n",
    "a = symbols('a')"
   ],
   "outputs": [],
   "metadata": {}
  },
  {
   "cell_type": "markdown",
   "source": [
    "# 1º EXEMPLO"
   ],
   "metadata": {}
  },
  {
   "cell_type": "markdown",
   "source": [
    "<font size = 5>\r\n",
    "\r\n",
    "Encontre a inclinação da reta tangente à curva $y = x^2 -2x + 1$ no ponto $(𝑥_1,𝑦_1 )$.\r\n",
    "\r\n",
    "</font>"
   ],
   "metadata": {}
  },
  {
   "cell_type": "code",
   "execution_count": 3,
   "source": [
    "# Criando a função\r\n",
    "f = x**2 - 2*x + 1\r\n",
    "f"
   ],
   "outputs": [
    {
     "output_type": "execute_result",
     "data": {
      "text/latex": [
       "$\\displaystyle x^{2} - 2 x + 1$"
      ],
      "text/plain": [
       "x**2 - 2*x + 1"
      ]
     },
     "metadata": {},
     "execution_count": 3
    }
   ],
   "metadata": {}
  },
  {
   "cell_type": "code",
   "execution_count": 7,
   "source": [
    "plt = plot(f, (x, 0, 5), line_color = 'r')"
   ],
   "outputs": [
    {
     "output_type": "display_data",
     "data": {
      "image/png": "[encoded data removed]",
      "text/plain": [
       "<Figure size 432x288 with 1 Axes>"
      ]
     },
     "metadata": {
      "needs_background": "light"
     }
    }
   ],
   "metadata": {}
  },
  {
   "cell_type": "markdown",
   "source": [
    "<font size = 5>\r\n",
    "\r\n",
    "O ângulo de uma equação da reta tangente é dado pela derivada da função. Então\r\n",
    "\r\n",
    "$$\r\n",
    "m(x) = \\lim_{\\Delta x \\rightarrow 0} \\frac{f(x + \\Delta x)-f(x)}{\\Delta x}\r\n",
    "$$\r\n",
    "\r\n",
    "</font>"
   ],
   "metadata": {}
  },
  {
   "cell_type": "code",
   "execution_count": 5,
   "source": [
    "# d está fazendo o papel de delta\r\n",
    "# Aqui estamos usando limite para calcular a derivada\r\n",
    "f1 = limit((f.subs(x, x + d)-f)/d, d, 0)\r\n",
    "f1"
   ],
   "outputs": [
    {
     "output_type": "execute_result",
     "data": {
      "text/latex": [
       "$\\displaystyle 2 x - 2$"
      ],
      "text/plain": [
       "2*x - 2"
      ]
     },
     "metadata": {},
     "execution_count": 5
    }
   ],
   "metadata": {}
  },
  {
   "cell_type": "code",
   "execution_count": 6,
   "source": [
    "# Podemos utilzar o diff também para calcular a derivada\r\n",
    "f.diff()"
   ],
   "outputs": [
    {
     "output_type": "execute_result",
     "data": {
      "text/latex": [
       "$\\displaystyle 2 x - 2$"
      ],
      "text/plain": [
       "2*x - 2"
      ]
     },
     "metadata": {},
     "execution_count": 6
    }
   ],
   "metadata": {}
  },
  {
   "cell_type": "markdown",
   "source": [
    "<font size = 5>\r\n",
    "\r\n",
    "Com a função que nos dá o ângulo, podemos agora calcular a reta tangente.\r\n",
    "\r\n",
    "$$\r\n",
    "y = m(x_1)*(x-x_1) + f(x_1)\r\n",
    "$$\r\n",
    "\r\n",
    "</font>"
   ],
   "metadata": {}
  },
  {
   "cell_type": "code",
   "execution_count": 9,
   "source": [
    "# Gerando uma equação genérica da reta tangente\r\n",
    "# O valor de 'a' é o ponto do gráfico original aonde queremos plotar a reta\r\n",
    "r = f1.subs(x, a)*(x-a) + f.subs(x, a)\r\n",
    "r"
   ],
   "outputs": [
    {
     "output_type": "execute_result",
     "data": {
      "text/latex": [
       "$\\displaystyle a^{2} - 2 a + \\left(- a + x\\right) \\left(2 a - 2\\right) + 1$"
      ],
      "text/plain": [
       "a**2 - 2*a + (-a + x)*(2*a - 2) + 1"
      ]
     },
     "metadata": {},
     "execution_count": 9
    }
   ],
   "metadata": {}
  },
  {
   "cell_type": "markdown",
   "source": [
    "<font size = 5>\r\n",
    "\r\n",
    "Agora que temos a reta tangente, podemos plotar a reta no ponto $x = 3$.\r\n",
    "\r\n",
    "</font>"
   ],
   "metadata": {}
  },
  {
   "cell_type": "code",
   "execution_count": 10,
   "source": [
    "r.subs(a, 3)"
   ],
   "outputs": [
    {
     "output_type": "execute_result",
     "data": {
      "text/latex": [
       "$\\displaystyle 4 x - 8$"
      ],
      "text/plain": [
       "4*x - 8"
      ]
     },
     "metadata": {},
     "execution_count": 10
    }
   ],
   "metadata": {}
  },
  {
   "cell_type": "code",
   "execution_count": 12,
   "source": [
    "plt = plot(f, (x, 0, 5), line_color = 'r', show = False)\r\n",
    "\r\n",
    "plt1 = plot(r.subs(a, 3), (x, 0, 5), line_color = '#ed3e8a', show = False)\r\n",
    "\r\n",
    "plt.title = \"Gráfico com a reta tangente em x = 3\"\r\n",
    "\r\n",
    "plt.append(plt1[0])\r\n",
    "\r\n",
    "plt.show()"
   ],
   "outputs": [
    {
     "output_type": "display_data",
     "data": {
      "image/png": "[encoded data removed]",
      "text/plain": [
       "<Figure size 432x288 with 1 Axes>"
      ]
     },
     "metadata": {
      "needs_background": "light"
     }
    }
   ],
   "metadata": {}
  },
  {
   "cell_type": "markdown",
   "source": [
    "________"
   ],
   "metadata": {}
  },
  {
   "cell_type": "markdown",
   "source": [
    "# 2º EXEMPLO"
   ],
   "metadata": {}
  },
  {
   "cell_type": "markdown",
   "source": [
    "<font size = 5>\r\n",
    "\r\n",
    "No instante $𝑡=0$ um corpo inicia um movimento em linha reta. Sua posição no instante $𝑡$ é dada por\r\n",
    "\r\n",
    "$$\r\n",
    "s(t) = 16t - t^2\r\n",
    "$$\r\n",
    "\r\n",
    "</font>"
   ],
   "metadata": {}
  },
  {
   "cell_type": "code",
   "execution_count": 13,
   "source": [
    "# Criando a função do espaço\r\n",
    "s = 16*x - x**2\r\n",
    "s"
   ],
   "outputs": [
    {
     "output_type": "execute_result",
     "data": {
      "text/latex": [
       "$\\displaystyle - x^{2} + 16 x$"
      ],
      "text/plain": [
       "-x**2 + 16*x"
      ]
     },
     "metadata": {},
     "execution_count": 13
    }
   ],
   "metadata": {}
  },
  {
   "cell_type": "markdown",
   "source": [
    "<font size = 5>\r\n",
    "\r\n",
    "Quando temos uma função do espaço, ao derivá-la achamos a função da velocidade instantânea\r\n",
    "\r\n",
    "</font>"
   ],
   "metadata": {}
  },
  {
   "cell_type": "code",
   "execution_count": 51,
   "source": [
    "v = s.diff()\r\n",
    "v"
   ],
   "outputs": [
    {
     "output_type": "execute_result",
     "data": {
      "text/latex": [
       "$\\displaystyle 16 - 2 x$"
      ],
      "text/plain": [
       "16 - 2*x"
      ]
     },
     "metadata": {},
     "execution_count": 51
    }
   ],
   "metadata": {}
  },
  {
   "cell_type": "markdown",
   "source": [
    "<font size = 5>\r\n",
    "\r\n",
    "Quando temos uma função da velocidade, ao derivá-la achamos a função da aceleração instantânea\r\n",
    "\r\n",
    "</font>"
   ],
   "metadata": {}
  },
  {
   "cell_type": "code",
   "execution_count": 52,
   "source": [
    "a = v.diff()\r\n",
    "a"
   ],
   "outputs": [
    {
     "output_type": "execute_result",
     "data": {
      "text/latex": [
       "$\\displaystyle -2$"
      ],
      "text/plain": [
       "-2"
      ]
     },
     "metadata": {},
     "execution_count": 52
    }
   ],
   "metadata": {}
  },
  {
   "cell_type": "markdown",
   "source": [
    "------------"
   ],
   "metadata": {}
  },
  {
   "cell_type": "markdown",
   "source": [
    "# 3º EXEMPLO"
   ],
   "metadata": {}
  },
  {
   "cell_type": "markdown",
   "source": [
    "<font size = 5>\r\n",
    "\r\n",
    "Seja a função $f(x)$ definida por:\r\n",
    "\r\n",
    "$$\r\n",
    "f(x) = \\begin{cases} 3x - 1 & x < 2 \\\\ 7- x & x \\geq 2 \\end{cases}\r\n",
    "$$\r\n",
    "\r\n",
    "</font>"
   ],
   "metadata": {}
  },
  {
   "cell_type": "code",
   "execution_count": 14,
   "source": [
    "# Gerando a função\r\n",
    "f = Piecewise((3*x-1, x < 2), (7 - x, True))\r\n",
    "f"
   ],
   "outputs": [
    {
     "output_type": "execute_result",
     "data": {
      "text/latex": [
       "$\\displaystyle \\begin{cases} 3 x - 1 & \\text{for}\\: x < 2 \\\\7 - x & \\text{otherwise} \\end{cases}$"
      ],
      "text/plain": [
       "Piecewise((3*x - 1, x < 2), (7 - x, True))"
      ]
     },
     "metadata": {},
     "execution_count": 14
    }
   ],
   "metadata": {}
  },
  {
   "cell_type": "code",
   "execution_count": 16,
   "source": [
    "plt = plot(f, (x, -3, 7))"
   ],
   "outputs": [
    {
     "output_type": "display_data",
     "data": {
      "image/png": "[encoded data removed]",
      "text/plain": [
       "<Figure size 432x288 with 1 Axes>"
      ]
     },
     "metadata": {
      "needs_background": "light"
     }
    }
   ],
   "metadata": {}
  },
  {
   "cell_type": "markdown",
   "source": [
    "<font size = 5>\r\n",
    "\r\n",
    "Para verificar se a função possui um ponto ânguloso, devemos verificar as derivadas laterais. Casos esses valores sejam diferentes, teremos o ponto ânguloso e essa derivada não existe no ponto.\r\n",
    "\r\n",
    "</font>"
   ],
   "metadata": {}
  },
  {
   "cell_type": "code",
   "execution_count": 17,
   "source": [
    "# Verificando a derivada pela esquerda no ponto 2.\r\n",
    "# Como é pela esquerda, todos os valores são menores que 2.\r\n",
    "f1 = 3*x-1\r\n",
    "f1.diff()"
   ],
   "outputs": [
    {
     "output_type": "execute_result",
     "data": {
      "text/latex": [
       "$\\displaystyle 3$"
      ],
      "text/plain": [
       "3"
      ]
     },
     "metadata": {},
     "execution_count": 17
    }
   ],
   "metadata": {}
  },
  {
   "cell_type": "code",
   "execution_count": 18,
   "source": [
    "# Verificando a derivada pela direita no ponto 2.\r\n",
    "# Como é pela direita, todos os valores são maiores que 2.\r\n",
    "f2 = 7 - x\r\n",
    "f2.diff()"
   ],
   "outputs": [
    {
     "output_type": "execute_result",
     "data": {
      "text/latex": [
       "$\\displaystyle -1$"
      ],
      "text/plain": [
       "-1"
      ]
     },
     "metadata": {},
     "execution_count": 18
    }
   ],
   "metadata": {}
  }
 ],
 "metadata": {
  "orig_nbformat": 4,
  "language_info": {
   "name": "python",
   "version": "3.8.7",
   "mimetype": "text/x-python",
   "codemirror_mode": {
    "name": "ipython",
    "version": 3
   },
   "pygments_lexer": "ipython3",
   "nbconvert_exporter": "python",
   "file_extension": ".py"
  },
  "kernelspec": {
   "name": "python3",
   "display_name": "Python 3.8.7 64-bit"
  },
  "interpreter": {
   "hash": "96e4cd4559f420b337cff5e6e94c280d73a970df8418c12f136cdcb524bea702"
  }
 },
 "nbformat": 4,
 "nbformat_minor": 2
}