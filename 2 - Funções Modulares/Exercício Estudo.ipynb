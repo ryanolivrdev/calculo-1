{
 "cells": [
  {
   "cell_type": "markdown",
   "metadata": {},
   "source": [
    "# Lista de Exercício\n",
    "\n",
    "A lista tem como objetivo treinar a utilização do python para resolver problemas"
   ]
  },
  {
   "cell_type": "markdown",
   "metadata": {},
   "source": [
    "## 1º Questão\n",
    "Dada a função\n",
    "\n",
    "$$\n",
    "f(x) = |x| - 2x\n",
    "$$\n",
    "\n",
    "* Calcular $f(-1)$, $f(1/2)$ e $f(-2/3)$\n",
    "* Mostrar que $f(|a|) = -|a|$"
   ]
  },
  {
   "cell_type": "code",
   "execution_count": null,
   "metadata": {},
   "outputs": [],
   "source": [
    "# Desenvolva o código aqui"
   ]
  },
  {
   "cell_type": "markdown",
   "metadata": {},
   "source": [
    "## 2º Questão\n",
    "Usando uma ferramenta gráfica, traçar as curvas definidas pelas equações dadas, identificando as que representam o gráfico de uma função $y=f(x)$. Aproveite para estudar a documentação do sympy e utilize parâmetros de configuração do plot para deixar o gráfico mais bonito.\n",
    "\n",
    "* $y = 3x-1$\n",
    "* $y + \\sqrt{4-x^2} = 0$\n",
    "* $y - x^2 = 11$\n",
    "* $y - x^2 = 0$\n",
    "* Desafio <br>\n",
    "$$\n",
    "f(x) = \\left\\{ \\begin{matrix}\n",
    "    x^3 \\text{, se } x \\leq 0 \\\\ 1 \\text{, se } 0 < x < 2 \\\\ x^2 \\text{, se } x \\geq 2\n",
    "\\end{matrix}\\right.\n",
    "$$"
   ]
  },
  {
   "cell_type": "code",
   "execution_count": null,
   "metadata": {},
   "outputs": [],
   "source": [
    "# Desenvolva o código aqui"
   ]
  },
  {
   "cell_type": "markdown",
   "metadata": {},
   "source": [
    "## 3º Questão\n",
    "Um fabricante produz peças para computadores pelo preço de 2,00 reais cada uma. Calcula-se que, se cada peça for vendida por $x$ reais, os consumidores comprarão, por mês, $600-x$ unidades. Expressar o lucro mensal do fabricante como função do preço. Contruir um gráfico para estimar o preço ótimo de venda."
   ]
  },
  {
   "cell_type": "code",
   "execution_count": null,
   "metadata": {},
   "outputs": [],
   "source": [
    "# Desenvolva o código aqui"
   ]
  },
  {
   "cell_type": "markdown",
   "metadata": {},
   "source": [
    "## 4º Questão\n",
    "Construir o gráfico das seguintes funções exponenciais.\n",
    "\n",
    "* $y = e^x$\n",
    "* $y = 10^{1/x}$\n",
    "* $e^{-x^2}$"
   ]
  },
  {
   "cell_type": "code",
   "execution_count": null,
   "metadata": {},
   "outputs": [],
   "source": [
    "# Desenvolva o código aqui"
   ]
  },
  {
   "cell_type": "markdown",
   "metadata": {},
   "source": [
    "## 5º Questão\n",
    "Construir os gráficos das seguintes funções logarítmicas.\n",
    "\n",
    "* $y = \\ln(-x)$\n",
    "* $y = \\ln(x+1)$\n",
    "* $y = \\ln(|x|)$\n",
    "* $y = x\\ln(x)$"
   ]
  },
  {
   "cell_type": "code",
   "execution_count": null,
   "metadata": {},
   "outputs": [],
   "source": [
    "# Desenvolva o código aqui"
   ]
  },
  {
   "cell_type": "markdown",
   "metadata": {},
   "source": [
    "## 6º Questão\n",
    "Uma indústria comercializa um certo produto e tem um função custo total dada por $C(x) = x^2 + 20x + 700$, sendo $x$ o número de unidades produzidas. A função receita total é dada por $R(x) = 200x$. Determine:\n",
    "\n",
    "* O lucro para a venda de 100 unidades.\n",
    "* Em que valor de x acontecerá o lucro máximo?"
   ]
  },
  {
   "cell_type": "code",
   "execution_count": null,
   "metadata": {},
   "outputs": [],
   "source": [
    "# Desenvolva o código aqui"
   ]
  },
  {
   "cell_type": "markdown",
   "metadata": {},
   "source": [
    "## 7º Questão\n",
    "A meia-vida do rádio-226 é de 1620 anos.\n",
    "\n",
    "* Obter o modelo de decaimento exponenccial para essa substância\n",
    "* Após 700 anos, qual o percentual de uma dada quantidade inicial de rádio ainda resta?"
   ]
  },
  {
   "cell_type": "code",
   "execution_count": null,
   "metadata": {},
   "outputs": [],
   "source": [
    "# Desenvolva o código aqui"
   ]
  }
 ],
 "metadata": {
  "kernelspec": {
   "display_name": "Python 3",
   "language": "python",
   "name": "python3"
  },
  "language_info": {
   "codemirror_mode": {
    "name": "ipython",
    "version": 3
   },
   "file_extension": ".py",
   "mimetype": "text/x-python",
   "name": "python",
   "nbconvert_exporter": "python",
   "pygments_lexer": "ipython3",
   "version": "3.8.7"
  }
 },
 "nbformat": 4,
 "nbformat_minor": 4
}
