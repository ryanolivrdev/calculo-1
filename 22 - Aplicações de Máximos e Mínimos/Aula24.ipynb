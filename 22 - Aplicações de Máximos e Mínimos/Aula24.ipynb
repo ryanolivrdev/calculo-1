{
 "cells": [
  {
   "cell_type": "code",
   "execution_count": 3,
   "metadata": {},
   "outputs": [],
   "source": [
    "from sympy import *"
   ]
  },
  {
   "cell_type": "code",
   "execution_count": 4,
   "metadata": {},
   "outputs": [],
   "source": [
    "x = symbols('x')\n",
    "y = symbols('y')\n",
    "a = symbols('a')\n",
    "r = symbols('r')\n",
    "ro = symbols('ro')"
   ]
  },
  {
   "cell_type": "markdown",
   "metadata": {},
   "source": [
    "# 1° Questão\n",
    "\n",
    "## Letra a"
   ]
  },
  {
   "cell_type": "code",
   "execution_count": 6,
   "metadata": {},
   "outputs": [
    {
     "data": {
      "text/latex": [
       "$\\displaystyle a r^{2} \\left(- r + ro\\right)$"
      ],
      "text/plain": [
       "a*r**2*(-r + ro)"
      ]
     },
     "execution_count": 6,
     "metadata": {},
     "output_type": "execute_result"
    }
   ],
   "source": [
    "V = a*r**2*(ro - r)\n",
    "V"
   ]
  },
  {
   "cell_type": "code",
   "execution_count": 7,
   "metadata": {},
   "outputs": [
    {
     "data": {
      "text/latex": [
       "$\\displaystyle - a r^{2} + 2 a r \\left(- r + ro\\right)$"
      ],
      "text/plain": [
       "-a*r**2 + 2*a*r*(-r + ro)"
      ]
     },
     "execution_count": 7,
     "metadata": {},
     "output_type": "execute_result"
    }
   ],
   "source": [
    "# Calculando os pontos críticos\n",
    "dV = diff(V, r)\n",
    "dV"
   ]
  },
  {
   "cell_type": "code",
   "execution_count": 9,
   "metadata": {},
   "outputs": [
    {
     "data": {
      "text/plain": [
       "[0, 2*ro/3]"
      ]
     },
     "execution_count": 9,
     "metadata": {},
     "output_type": "execute_result"
    }
   ],
   "source": [
    "pc = solve(Eq(dV,0), r)\n",
    "pc"
   ]
  },
  {
   "cell_type": "code",
   "execution_count": 10,
   "metadata": {},
   "outputs": [
    {
     "data": {
      "text/latex": [
       "$\\displaystyle - 4 a r + 2 a \\left(- r + ro\\right)$"
      ],
      "text/plain": [
       "-4*a*r + 2*a*(-r + ro)"
      ]
     },
     "execution_count": 10,
     "metadata": {},
     "output_type": "execute_result"
    }
   ],
   "source": [
    "# Com os pontos críticos, calculamos se é ponto máximo ou mínimo\n",
    "ddV = diff(dV, r)\n",
    "ddV"
   ]
  },
  {
   "cell_type": "code",
   "execution_count": 11,
   "metadata": {},
   "outputs": [
    {
     "data": {
      "text/latex": [
       "$\\displaystyle 2 a ro$"
      ],
      "text/plain": [
       "2*a*ro"
      ]
     },
     "execution_count": 11,
     "metadata": {},
     "output_type": "execute_result"
    }
   ],
   "source": [
    "# 1° ponto crítico\n",
    "ddV.subs(r, pc[0])\n",
    "\n",
    "# resultado sempre é positivo, pois 'a' e 'ro' são constantes positivas.\n",
    "# Logo pc[0] = 0 é um ponto mínimo."
   ]
  },
  {
   "cell_type": "code",
   "execution_count": 12,
   "metadata": {},
   "outputs": [
    {
     "data": {
      "text/latex": [
       "$\\displaystyle - 2 a ro$"
      ],
      "text/plain": [
       "-2*a*ro"
      ]
     },
     "execution_count": 12,
     "metadata": {},
     "output_type": "execute_result"
    }
   ],
   "source": [
    "# 2° ponto crítico\n",
    "ddV.subs(r, pc[1])\n",
    "\n",
    "# resultado sempre é negativo, pois 'a' e 'ro' são constantes positivas.\n",
    "# Logo pc[1] = 2ro/3 é um ponto máximo."
   ]
  },
  {
   "cell_type": "code",
   "execution_count": 13,
   "metadata": {},
   "outputs": [
    {
     "data": {
      "text/latex": [
       "$\\displaystyle \\frac{4 a ro^{3}}{27}$"
      ],
      "text/plain": [
       "4*a*ro**3/27"
      ]
     },
     "execution_count": 13,
     "metadata": {},
     "output_type": "execute_result"
    }
   ],
   "source": [
    "# Descobrindo a maior velocidade\n",
    "V.subs(r, pc[1])"
   ]
  },
  {
   "cell_type": "markdown",
   "metadata": {},
   "source": [
    "## Letra b"
   ]
  },
  {
   "cell_type": "code",
   "execution_count": 14,
   "metadata": {},
   "outputs": [
    {
     "data": {
      "text/latex": [
       "$\\displaystyle a r^{2} \\left(- r + ro\\right) + 2 \\pi r^{2}$"
      ],
      "text/plain": [
       "a*r**2*(-r + ro) + 2*pi*r**2"
      ]
     },
     "execution_count": 14,
     "metadata": {},
     "output_type": "execute_result"
    }
   ],
   "source": [
    "# phi = A*V\n",
    "# A é a área da gargante, logo, uma circunferência\n",
    "phi = 2*pi*r**2 + V\n",
    "phi"
   ]
  },
  {
   "cell_type": "code",
   "execution_count": 15,
   "metadata": {},
   "outputs": [
    {
     "data": {
      "text/latex": [
       "$\\displaystyle - a r^{2} + 2 a r \\left(- r + ro\\right) + 4 \\pi r$"
      ],
      "text/plain": [
       "-a*r**2 + 2*a*r*(-r + ro) + 4*pi*r"
      ]
     },
     "execution_count": 15,
     "metadata": {},
     "output_type": "execute_result"
    }
   ],
   "source": [
    "# Calculando os pontos críticos\n",
    "dPhi = diff(phi, r)\n",
    "dPhi"
   ]
  },
  {
   "cell_type": "code",
   "execution_count": 17,
   "metadata": {},
   "outputs": [
    {
     "data": {
      "text/plain": [
       "[0, 2*(a*ro + 2*pi)/(3*a)]"
      ]
     },
     "execution_count": 17,
     "metadata": {},
     "output_type": "execute_result"
    }
   ],
   "source": [
    "pc = solve(Eq(dPhi, 0), r)\n",
    "pc"
   ]
  },
  {
   "cell_type": "code",
   "execution_count": 18,
   "metadata": {},
   "outputs": [
    {
     "data": {
      "text/latex": [
       "$\\displaystyle - 4 a r + 2 a \\left(- r + ro\\right) + 4 \\pi$"
      ],
      "text/plain": [
       "-4*a*r + 2*a*(-r + ro) + 4*pi"
      ]
     },
     "execution_count": 18,
     "metadata": {},
     "output_type": "execute_result"
    }
   ],
   "source": [
    "# Com os pontos críticos, calculamos se é ponto máximo ou mínimo\n",
    "ddPhi = diff(dPhi, r)\n",
    "ddPhi"
   ]
  },
  {
   "cell_type": "code",
   "execution_count": 19,
   "metadata": {},
   "outputs": [
    {
     "data": {
      "text/latex": [
       "$\\displaystyle 2 a ro + 4 \\pi$"
      ],
      "text/plain": [
       "2*a*ro + 4*pi"
      ]
     },
     "execution_count": 19,
     "metadata": {},
     "output_type": "execute_result"
    }
   ],
   "source": [
    "# 1° ponto crítico\n",
    "ddPhi.subs(r, pc[0])\n",
    "\n",
    "# resultado sempre é positivo, pois 'a' e 'ro' são constantes positivas.\n",
    "# Logo pc[0] = 0 é um ponto mínimo."
   ]
  },
  {
   "cell_type": "code",
   "execution_count": 20,
   "metadata": {},
   "outputs": [
    {
     "data": {
      "text/latex": [
       "$\\displaystyle - \\frac{8 a ro}{3} + 2 a \\left(ro - \\frac{2 \\left(a ro + 2 \\pi\\right)}{3 a}\\right) - \\frac{4 \\pi}{3}$"
      ],
      "text/plain": [
       "-8*a*ro/3 + 2*a*(ro - 2*(a*ro + 2*pi)/(3*a)) - 4*pi/3"
      ]
     },
     "execution_count": 20,
     "metadata": {},
     "output_type": "execute_result"
    }
   ],
   "source": [
    "# 2° ponto crítico\n",
    "ddPhi.subs(r, pc[1])\n",
    "\n",
    "# Como o valor depende das contantes para ser positivo e negativo,\n",
    "# devemos olhar sua inequação para ser negativo"
   ]
  },
  {
   "cell_type": "code",
   "execution_count": 23,
   "metadata": {},
   "outputs": [
    {
     "data": {
      "text/latex": [
       "$\\displaystyle - 2 a ro < 4 \\pi$"
      ],
      "text/plain": [
       "-2*a*ro < 4*pi"
      ]
     },
     "execution_count": 23,
     "metadata": {},
     "output_type": "execute_result"
    }
   ],
   "source": [
    "solve(ddPhi.subs(r, pc[1]) < 0, ro)\n",
    "\n",
    "# teremos um ponto máximo se -2aro for menor que 4pi"
   ]
  },
  {
   "cell_type": "markdown",
   "metadata": {},
   "source": [
    "__________________________________"
   ]
  },
  {
   "cell_type": "markdown",
   "metadata": {},
   "source": [
    "# 2° Questão"
   ]
  },
  {
   "cell_type": "code",
   "execution_count": 24,
   "metadata": {},
   "outputs": [
    {
     "data": {
      "text/latex": [
       "$\\displaystyle - 312 x + 640 \\sqrt{x^{2} + 1000} + 62400$"
      ],
      "text/plain": [
       "-312*x + 640*sqrt(x**2 + 1000) + 62400"
      ]
     },
     "execution_count": 24,
     "metadata": {},
     "output_type": "execute_result"
    }
   ],
   "source": [
    "C = 312*(200-x) + 640*(sqrt(x**2 + 500*2))\n",
    "C"
   ]
  },
  {
   "cell_type": "code",
   "execution_count": 25,
   "metadata": {},
   "outputs": [
    {
     "data": {
      "text/latex": [
       "$\\displaystyle \\frac{640 x}{\\sqrt{x^{2} + 1000}} - 312$"
      ],
      "text/plain": [
       "640*x/sqrt(x**2 + 1000) - 312"
      ]
     },
     "execution_count": 25,
     "metadata": {},
     "output_type": "execute_result"
    }
   ],
   "source": [
    "# Calculando os pontos críticos\n",
    "dC = diff(C, x)\n",
    "dC"
   ]
  },
  {
   "cell_type": "code",
   "execution_count": 26,
   "metadata": {},
   "outputs": [
    {
     "data": {
      "text/plain": [
       "[390*sqrt(48790)/4879]"
      ]
     },
     "execution_count": 26,
     "metadata": {},
     "output_type": "execute_result"
    }
   ],
   "source": [
    "pc = solve(Eq(dC, 0), x)\n",
    "pc"
   ]
  },
  {
   "cell_type": "code",
   "execution_count": 27,
   "metadata": {},
   "outputs": [
    {
     "data": {
      "text/latex": [
       "$\\displaystyle - \\frac{640 x^{2}}{\\left(x^{2} + 1000\\right)^{\\frac{3}{2}}} + \\frac{640}{\\sqrt{x^{2} + 1000}}$"
      ],
      "text/plain": [
       "-640*x**2/(x**2 + 1000)**(3/2) + 640/sqrt(x**2 + 1000)"
      ]
     },
     "execution_count": 27,
     "metadata": {},
     "output_type": "execute_result"
    }
   ],
   "source": [
    "# Com os pontos críticos, calculamos se é ponto máximo ou mínimo\n",
    "ddC = diff(dC, x)\n",
    "ddC"
   ]
  },
  {
   "cell_type": "code",
   "execution_count": 28,
   "metadata": {},
   "outputs": [
    {
     "data": {
      "text/latex": [
       "$\\displaystyle \\frac{4879 \\sqrt{48790}}{80000}$"
      ],
      "text/plain": [
       "4879*sqrt(48790)/80000"
      ]
     },
     "execution_count": 28,
     "metadata": {},
     "output_type": "execute_result"
    }
   ],
   "source": [
    "# ponto crítico\n",
    "ddC.subs(x, pc[0])\n",
    "\n",
    "# resultado é positivo.\n",
    "# Logo pc[0] = 0 é um ponto mínimo."
   ]
  },
  {
   "cell_type": "code",
   "execution_count": 30,
   "metadata": {},
   "outputs": [
    {
     "data": {
      "text/latex": [
       "$\\displaystyle 80070.7668198072$"
      ],
      "text/plain": [
       "80070.7668198072"
      ]
     },
     "execution_count": 30,
     "metadata": {},
     "output_type": "execute_result"
    }
   ],
   "source": [
    "# Descobrindo o menor custo\n",
    "N(C.subs(x, pc[0]))"
   ]
  },
  {
   "cell_type": "markdown",
   "metadata": {},
   "source": [
    "_________________________"
   ]
  },
  {
   "cell_type": "markdown",
   "metadata": {},
   "source": [
    "# 3° Questão"
   ]
  },
  {
   "cell_type": "code",
   "execution_count": 33,
   "metadata": {},
   "outputs": [
    {
     "data": {
      "text/latex": [
       "$\\displaystyle \\left(45 + \\frac{12100}{x}\\right) \\left(x + 24\\right)$"
      ],
      "text/plain": [
       "(45 + 12100/x)*(x + 24)"
      ]
     },
     "execution_count": 33,
     "metadata": {},
     "output_type": "execute_result"
    }
   ],
   "source": [
    "Al = (45+12100/x)*(24+x)\n",
    "Al"
   ]
  },
  {
   "cell_type": "code",
   "execution_count": 35,
   "metadata": {},
   "outputs": [
    {
     "data": {
      "text/latex": [
       "$\\displaystyle 45 + \\frac{12100}{x} - \\frac{12100 \\left(x + 24\\right)}{x^{2}}$"
      ],
      "text/plain": [
       "45 + 12100/x - 12100*(x + 24)/x**2"
      ]
     },
     "execution_count": 35,
     "metadata": {},
     "output_type": "execute_result"
    }
   ],
   "source": [
    "# Calculando os pontos críticos\n",
    "dAl = diff(Al, x)\n",
    "dAl"
   ]
  },
  {
   "cell_type": "code",
   "execution_count": 36,
   "metadata": {},
   "outputs": [
    {
     "data": {
      "text/plain": [
       "[-44*sqrt(30)/3, 44*sqrt(30)/3]"
      ]
     },
     "execution_count": 36,
     "metadata": {},
     "output_type": "execute_result"
    }
   ],
   "source": [
    "pc = solve(Eq(dAl, 0), x)\n",
    "pc"
   ]
  },
  {
   "cell_type": "code",
   "execution_count": 37,
   "metadata": {},
   "outputs": [
    {
     "data": {
      "text/latex": [
       "$\\displaystyle - \\frac{24200}{x^{2}} + \\frac{24200 \\left(x + 24\\right)}{x^{3}}$"
      ],
      "text/plain": [
       "-24200/x**2 + 24200*(x + 24)/x**3"
      ]
     },
     "execution_count": 37,
     "metadata": {},
     "output_type": "execute_result"
    }
   ],
   "source": [
    "# Com os pontos críticos, calculamos se é ponto máximo ou mínimo\n",
    "ddAl = diff(dAl, x)\n",
    "ddAl"
   ]
  },
  {
   "cell_type": "code",
   "execution_count": 38,
   "metadata": {},
   "outputs": [
    {
     "data": {
      "text/latex": [
       "$\\displaystyle - \\frac{15}{4} - \\frac{3 \\sqrt{30} \\cdot \\left(24 - \\frac{44 \\sqrt{30}}{3}\\right)}{352}$"
      ],
      "text/plain": [
       "-15/4 - 3*sqrt(30)*(24 - 44*sqrt(30)/3)/352"
      ]
     },
     "execution_count": 38,
     "metadata": {},
     "output_type": "execute_result"
    }
   ],
   "source": [
    "# 1° ponto crítico\n",
    "ddAl.subs(x, pc[0])\n",
    "\n",
    "# resultado é negativo.\n",
    "# Logo pc[0] = 0 é um ponto máximo.\n",
    "# Como não existe área negativa, esse resultado pode ser ignorado"
   ]
  },
  {
   "cell_type": "code",
   "execution_count": 40,
   "metadata": {},
   "outputs": [
    {
     "data": {
      "text/latex": [
       "$\\displaystyle 1.12034159489693$"
      ],
      "text/plain": [
       "1.12034159489693"
      ]
     },
     "execution_count": 40,
     "metadata": {},
     "output_type": "execute_result"
    }
   ],
   "source": [
    "# 2° ponto crítico\n",
    "N(ddAl.subs(x, pc[1]))\n",
    "\n",
    "# resultado é positivo.\n",
    "# Logo pc[1] é um ponto mínimo."
   ]
  },
  {
   "cell_type": "code",
   "execution_count": 43,
   "metadata": {},
   "outputs": [
    {
     "data": {
      "text/latex": [
       "$\\displaystyle 20409.9377590682$"
      ],
      "text/plain": [
       "20409.9377590682"
      ]
     },
     "execution_count": 43,
     "metadata": {},
     "output_type": "execute_result"
    }
   ],
   "source": [
    "# Calculando a menor área do lote\n",
    "N(Al.subs(x, pc[1]))"
   ]
  },
  {
   "cell_type": "markdown",
   "metadata": {},
   "source": [
    "____________________________"
   ]
  },
  {
   "cell_type": "markdown",
   "metadata": {},
   "source": [
    "# 4° Questão"
   ]
  },
  {
   "cell_type": "code",
   "execution_count": 15,
   "metadata": {},
   "outputs": [
    {
     "data": {
      "text/latex": [
       "$\\displaystyle 1200 x^{2} + \\frac{9800000}{x}$"
      ],
      "text/plain": [
       "1200*x**2 + 9800000/x"
      ]
     },
     "execution_count": 15,
     "metadata": {},
     "output_type": "execute_result"
    }
   ],
   "source": [
    "C = 1200*(x**2) + 4*980*(x*2500/(x**2))\n",
    "C"
   ]
  },
  {
   "cell_type": "code",
   "execution_count": 16,
   "metadata": {},
   "outputs": [
    {
     "data": {
      "text/latex": [
       "$\\displaystyle 2400 x - \\frac{9800000}{x^{2}}$"
      ],
      "text/plain": [
       "2400*x - 9800000/x**2"
      ]
     },
     "execution_count": 16,
     "metadata": {},
     "output_type": "execute_result"
    }
   ],
   "source": [
    "# Calculando os pontos críticos\n",
    "dC = diff(C,x)\n",
    "dC"
   ]
  },
  {
   "cell_type": "code",
   "execution_count": 22,
   "metadata": {},
   "outputs": [
    {
     "name": "stdout",
     "output_type": "stream",
     "text": [
      "Ponto Crítico Real: 15.9834899138703\n"
     ]
    }
   ],
   "source": [
    "pc = solve(Eq(dC, 0), x)\n",
    "pc\n",
    "\n",
    "# Há dois pontos imaginários como críticos.\n",
    "print(f\"Ponto Crítico Real: {N(pc[0])}\")"
   ]
  },
  {
   "cell_type": "code",
   "execution_count": 20,
   "metadata": {},
   "outputs": [
    {
     "data": {
      "text/latex": [
       "$\\displaystyle 2400 + \\frac{19600000}{x^{3}}$"
      ],
      "text/plain": [
       "2400 + 19600000/x**3"
      ]
     },
     "execution_count": 20,
     "metadata": {},
     "output_type": "execute_result"
    }
   ],
   "source": [
    "# Com os pontos críticos, calculamos se é ponto máximo ou mínimo\n",
    "ddC = diff(dC, x)\n",
    "ddC"
   ]
  },
  {
   "cell_type": "code",
   "execution_count": 21,
   "metadata": {},
   "outputs": [
    {
     "data": {
      "text/latex": [
       "$\\displaystyle 7200$"
      ],
      "text/plain": [
       "7200"
      ]
     },
     "execution_count": 21,
     "metadata": {},
     "output_type": "execute_result"
    }
   ],
   "source": [
    "ddC.subs(x, pc[0])\n",
    "\n",
    "# Como o resultado é positivo, pc[0] é ponto mínimo"
   ]
  },
  {
   "cell_type": "code",
   "execution_count": 24,
   "metadata": {},
   "outputs": [
    {
     "data": {
      "text/latex": [
       "$\\displaystyle 9.78581015134916$"
      ],
      "text/plain": [
       "9.78581015134916"
      ]
     },
     "execution_count": 24,
     "metadata": {},
     "output_type": "execute_result"
    }
   ],
   "source": [
    "# Achando o valor de y\n",
    "# y = 2500/x²\n",
    "y = 2500/(x**2)\n",
    "y = N(y.subs(x, pc[0]))\n",
    "y"
   ]
  },
  {
   "cell_type": "code",
   "execution_count": 26,
   "metadata": {},
   "outputs": [
    {
     "data": {
      "text/latex": [
       "$\\displaystyle 2500.0$"
      ],
      "text/plain": [
       "2500.00000000000"
      ]
     },
     "execution_count": 26,
     "metadata": {},
     "output_type": "execute_result"
    }
   ],
   "source": [
    "# Verificando o volume\n",
    "N(pc[0]*pc[0]*y)"
   ]
  },
  {
   "cell_type": "code",
   "execution_count": 28,
   "metadata": {},
   "outputs": [
    {
     "name": "stdout",
     "output_type": "stream",
     "text": [
      "Menor Custo: 919699.019376457\n",
      "Valor de x: 15.9834899138703\tValor de y: 9.78581015134916\n"
     ]
    }
   ],
   "source": [
    "print(f\"Menor Custo: {N(C.subs(x, pc[0]))}\")\n",
    "print(f\"Valor de x: {N(pc[0])}\\tValor de y: {N(y)}\")"
   ]
  },
  {
   "cell_type": "code",
   "execution_count": null,
   "metadata": {},
   "outputs": [],
   "source": []
  }
 ],
 "metadata": {
  "kernelspec": {
   "display_name": "Python 3.10.6 ('env': venv)",
   "language": "python",
   "name": "python3"
  },
  "language_info": {
   "codemirror_mode": {
    "name": "ipython",
    "version": 3
   },
   "file_extension": ".py",
   "mimetype": "text/x-python",
   "name": "python",
   "nbconvert_exporter": "python",
   "pygments_lexer": "ipython3",
   "version": "3.10.6"
  },
  "orig_nbformat": 4,
  "vscode": {
   "interpreter": {
    "hash": "82b4c08a22603590d0ee4068f1471520e2cba44da29a7a1d40cf7bd327813ef8"
   }
  }
 },
 "nbformat": 4,
 "nbformat_minor": 2
}
