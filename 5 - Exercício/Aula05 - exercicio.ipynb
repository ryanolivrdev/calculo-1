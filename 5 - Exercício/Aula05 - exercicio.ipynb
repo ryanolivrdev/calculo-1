{
 "cells": [
  {
   "cell_type": "markdown",
   "metadata": {},
   "source": [
    "# AULA 05"
   ]
  },
  {
   "cell_type": "code",
   "execution_count": 3,
   "metadata": {},
   "outputs": [],
   "source": [
    "# BLOCO PARA IMPORTAR AS BIBLIOTECAS"
   ]
  },
  {
   "cell_type": "code",
   "execution_count": 8,
   "metadata": {},
   "outputs": [],
   "source": [
    "# BLOCO PARA DECLARAR OS VALORES SIMBÓLICOS"
   ]
  },
  {
   "cell_type": "markdown",
   "metadata": {},
   "source": [
    "## QUESTÃO 01\n",
    "Uma imobiliária cobra uma comissão de 12% do valor da venda de um imóvel mais R$ 25,00 fixo para as despesas de correio e divulgação. Denote por $x$ o valor do imóvel (em reais) e por $f(x)$ a comissão cobrada pela imobiliária.\n",
    "\n",
    ">   *a)* Descreva a função $f(x)$ \\\n",
    ">   *b)* Qual o valor recebido pela imobiliária na venda de um imóvel por R$ 185.000,00?"
   ]
  },
  {
   "cell_type": "code",
   "execution_count": null,
   "metadata": {},
   "outputs": [],
   "source": [
    "#Código Aqui!"
   ]
  },
  {
   "cell_type": "markdown",
   "metadata": {},
   "source": [
    "-------------------------------"
   ]
  },
  {
   "cell_type": "markdown",
   "metadata": {},
   "source": [
    "## QUESTÃO 02\n",
    "Dentre todos os retângulos de perímetro igual a 80 cm, quais as dimensões do retângulo de área máxima?"
   ]
  },
  {
   "cell_type": "code",
   "execution_count": null,
   "metadata": {},
   "outputs": [],
   "source": [
    "#Código Aqui!"
   ]
  },
  {
   "cell_type": "markdown",
   "metadata": {},
   "source": [
    "________________________________________"
   ]
  },
  {
   "cell_type": "markdown",
   "metadata": {},
   "source": [
    "## QUESTÃO 03\n",
    "\n",
    "Uma criança tem um montante fixo M = R$ 180,00 para comprar latinhas de refrigerante e cachorros quentes para sua festa de aniversário. Suponha que cada latinha custe R$ 1,20 e cada cachorro quente R$ 1,50.\n",
    "\n",
    "> 1. Obtenha a equação de restrição orçamentária.\n",
    "> 2. Esboce o gráfico, supondo as variáveis contínuas.\n",
    "> 3. Se a criança optar em usar todo seu orçamento comprando somente cachorros quentes, estime o número de cachorros quentes que podem ser comprados."
   ]
  },
  {
   "cell_type": "code",
   "execution_count": null,
   "metadata": {},
   "outputs": [],
   "source": [
    "#Código Aqui!"
   ]
  }
 ],
 "metadata": {
  "kernelspec": {
   "display_name": "Python 3.10.4 ('env': venv)",
   "language": "python",
   "name": "python3"
  },
  "language_info": {
   "codemirror_mode": {
    "name": "ipython",
    "version": 3
   },
   "file_extension": ".py",
   "mimetype": "text/x-python",
   "name": "python",
   "nbconvert_exporter": "python",
   "pygments_lexer": "ipython3",
   "version": "3.10.4"
  },
  "orig_nbformat": 4,
  "vscode": {
   "interpreter": {
    "hash": "82b4c08a22603590d0ee4068f1471520e2cba44da29a7a1d40cf7bd327813ef8"
   }
  }
 },
 "nbformat": 4,
 "nbformat_minor": 2
}
