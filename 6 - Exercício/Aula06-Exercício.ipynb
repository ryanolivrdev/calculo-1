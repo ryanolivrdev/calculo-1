{
 "cells": [
  {
   "cell_type": "markdown",
   "metadata": {},
   "source": [
    "# AULA 06\n",
    "## LISTA DE EXERCÍCIO"
   ]
  },
  {
   "cell_type": "code",
   "execution_count": 56,
   "metadata": {},
   "outputs": [],
   "source": [
    "from sympy import *"
   ]
  },
  {
   "cell_type": "code",
   "execution_count": 57,
   "metadata": {},
   "outputs": [],
   "source": [
    "x = symbols('x')\n",
    "y = symbols('y')"
   ]
  },
  {
   "cell_type": "markdown",
   "metadata": {},
   "source": [
    "__________"
   ]
  },
  {
   "cell_type": "markdown",
   "metadata": {},
   "source": [
    "# 1º Questão"
   ]
  },
  {
   "cell_type": "markdown",
   "metadata": {},
   "source": [
    "<font size=\"5\">\n",
    "\n",
    "Analisar a função $ f(x) = 24x - 3x^2 $ e verificar a possibilidade de representar uma função receita. Em caso afirmativo identifique a função demanda e responda:\n",
    "\n",
    "    - Qual a quantidade demandada quando o preço unitário é R$ 5,00?\n",
    "    \n",
    "    - Qual é o preço do produto quando a receita é máxima?\n",
    "\n",
    "</font>"
   ]
  },
  {
   "cell_type": "markdown",
   "metadata": {},
   "source": [
    "_____________"
   ]
  },
  {
   "cell_type": "markdown",
   "metadata": {},
   "source": [
    "# 2º Questão"
   ]
  },
  {
   "cell_type": "markdown",
   "metadata": {},
   "source": [
    "<font size=\"5\">\n",
    "\n",
    "Numa dada cidade a população atual é 380.000 habitantes. Se a população apresenta uma taxa de crescimento anual de 1,5%, estime o tempo necessário para a população duplicar.\n",
    "\n",
    "</font>"
   ]
  },
  {
   "cell_type": "markdown",
   "metadata": {},
   "source": [
    "________"
   ]
  },
  {
   "cell_type": "markdown",
   "metadata": {},
   "source": [
    "# 3º Questão"
   ]
  },
  {
   "cell_type": "markdown",
   "metadata": {},
   "source": [
    "<font size=\"5\">\n",
    "\n",
    "Certa empresa fabrica 2 produtos $P_1$ e $P_2$. O lucro por unidade de $P_1$ é de 100 reais e o lucro unitário de $P_2$ é de 150 reais. A empresa necessita de 2 horas para fabricar uma unidade de $P_1$ e 3 horas para fabricar uma unidade de $P_2$. O tempo mensal disponível para essas atividades é de 120 horas. As demandas esperadas para\n",
    "os dois produtos levaram a empresa a decidir que os montantes produzidos de $P_1$ e $P_2$ não devem ultrapassar 40 unidades de $P_1$ e 30 unidades de $P_2$ por mês. Construa o modelo do sistema de produção mensal com o objetivo de maximizar o lucro da empresa. (Assumir que as quantidades podem ser fracionárias)\n",
    "\n",
    "</font>"
   ]
  },
  {
   "cell_type": "markdown",
   "metadata": {},
   "source": [
    "______________"
   ]
  },
  {
   "cell_type": "markdown",
   "metadata": {},
   "source": [
    "# 4º Questão"
   ]
  },
  {
   "cell_type": "markdown",
   "metadata": {},
   "source": [
    "<font size=\"5\">\n",
    "\n",
    "A figura representa um sistema massa-mola ideal, cuja constante elástica é de 4 N/cm.\n",
    "\n",
    "</font>"
   ]
  },
  {
   "cell_type": "markdown",
   "metadata": {},
   "source": [
    "<iframe src=\"https://drive.google.com/file/d/16EqzXpr0c4nr76pkTdh-iSrRzt2mI23C/preview\" width=\"640\" height=\"480\" allow=\"autoplay\"></iframe>"
   ]
  },
  {
   "cell_type": "markdown",
   "metadata": {},
   "source": [
    "<font size=\"5\">\n",
    "\n",
    "Um corpo de massa igual a 1,2 kg é empurrado contra a mola, comprimindo-a de 12,0 cm. Ao ser liberado, o corpo desliza ao longo da trajetória representada na figura. Desprezando-se as forças dissipativas em todo o percurso e considerando a aceleração da gravidade igual a 10 m/s², é correto afirmar que a altura máxima H atingida pelo corpo, em cm, é igual a:\n",
    "\n",
    "</font>"
   ]
  }
 ],
 "metadata": {
  "interpreter": {
   "hash": "96e4cd4559f420b337cff5e6e94c280d73a970df8418c12f136cdcb524bea702"
  },
  "kernelspec": {
   "display_name": "Python 3.8.7 64-bit",
   "name": "python3"
  },
  "language_info": {
   "codemirror_mode": {
    "name": "ipython",
    "version": 3
   },
   "file_extension": ".py",
   "mimetype": "text/x-python",
   "name": "python",
   "nbconvert_exporter": "python",
   "pygments_lexer": "ipython3",
   "version": "3.11.2"
  },
  "orig_nbformat": 4
 },
 "nbformat": 4,
 "nbformat_minor": 2
}
